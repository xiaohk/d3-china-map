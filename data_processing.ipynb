{
 "cells": [
  {
   "cell_type": "markdown",
   "metadata": {},
   "source": [
    "# Data Processing"
   ]
  },
  {
   "cell_type": "markdown",
   "metadata": {},
   "source": [
    "## Data Cleaning\n",
    "\n",
    "Check if the city coordinate json covers all cities in the table"
   ]
  },
  {
   "cell_type": "code",
   "execution_count": 14,
   "metadata": {},
   "outputs": [],
   "source": [
    "import re\n",
    "import pandas as pd\n",
    "from json import load, dump"
   ]
  },
  {
   "cell_type": "code",
   "execution_count": 27,
   "metadata": {},
   "outputs": [
    {
     "name": "stderr",
     "output_type": "stream",
     "text": [
      "/usr/local/lib/python3.6/site-packages/ipykernel_launcher.py:4: SettingWithCopyWarning: \n",
      "A value is trying to be set on a copy of a slice from a DataFrame\n",
      "\n",
      "See the caveats in the documentation: http://pandas.pydata.org/pandas-docs/stable/indexing.html#indexing-view-versus-copy\n",
      "  after removing the cwd from sys.path.\n"
     ]
    }
   ],
   "source": [
    "df = pd.read_csv(\"./data/spring_2018_china.csv\", sep='\\t')\n",
    "city_coord = load(open(\"./data/china_coord.json\", 'r'))\n",
    "# Change all hong kong city to hongkong\n",
    "df['City'][df[\"Country\"]==\"Hong Kong\"] = 'hongkong'"
   ]
  },
  {
   "cell_type": "code",
   "execution_count": 28,
   "metadata": {},
   "outputs": [
    {
     "data": {
      "text/html": [
       "<div>\n",
       "<style scoped>\n",
       "    .dataframe tbody tr th:only-of-type {\n",
       "        vertical-align: middle;\n",
       "    }\n",
       "\n",
       "    .dataframe tbody tr th {\n",
       "        vertical-align: top;\n",
       "    }\n",
       "\n",
       "    .dataframe thead th {\n",
       "        text-align: right;\n",
       "    }\n",
       "</style>\n",
       "<table border=\"1\" class=\"dataframe\">\n",
       "  <thead>\n",
       "    <tr style=\"text-align: right;\">\n",
       "      <th></th>\n",
       "      <th>Award</th>\n",
       "      <th>City</th>\n",
       "      <th>Country</th>\n",
       "      <th>School/College</th>\n",
       "      <th>State</th>\n",
       "      <th>Student Name</th>\n",
       "      <th>Zip Code</th>\n",
       "      <th>Ordering</th>\n",
       "      <th>Max. Last Name</th>\n",
       "    </tr>\n",
       "  </thead>\n",
       "  <tbody>\n",
       "    <tr>\n",
       "      <th>0</th>\n",
       "      <td>Dean's List</td>\n",
       "      <td>Beijing</td>\n",
       "      <td>China</td>\n",
       "      <td>School of Education</td>\n",
       "      <td></td>\n",
       "      <td>Nanxi Ai</td>\n",
       "      <td></td>\n",
       "      <td>1</td>\n",
       "      <td>Ai</td>\n",
       "    </tr>\n",
       "    <tr>\n",
       "      <th>1</th>\n",
       "      <td>Dean's List</td>\n",
       "      <td>Taiyuan</td>\n",
       "      <td>China</td>\n",
       "      <td>College of Agricultural and Life Sciences</td>\n",
       "      <td></td>\n",
       "      <td>Avery Ao</td>\n",
       "      <td></td>\n",
       "      <td>2</td>\n",
       "      <td>Ao</td>\n",
       "    </tr>\n",
       "    <tr>\n",
       "      <th>2</th>\n",
       "      <td>Dean's Honor List</td>\n",
       "      <td>Beijing 100062</td>\n",
       "      <td>China</td>\n",
       "      <td>College of Engineering</td>\n",
       "      <td></td>\n",
       "      <td>Tony Bai</td>\n",
       "      <td></td>\n",
       "      <td>3</td>\n",
       "      <td>Bai</td>\n",
       "    </tr>\n",
       "    <tr>\n",
       "      <th>3</th>\n",
       "      <td>Dean's List</td>\n",
       "      <td>Beijing</td>\n",
       "      <td>China</td>\n",
       "      <td>College of Letters &amp; Science</td>\n",
       "      <td></td>\n",
       "      <td>Yuchen Bai</td>\n",
       "      <td></td>\n",
       "      <td>4</td>\n",
       "      <td>Bai</td>\n",
       "    </tr>\n",
       "    <tr>\n",
       "      <th>4</th>\n",
       "      <td>Dean's List</td>\n",
       "      <td>Jinan City Shandong</td>\n",
       "      <td>China</td>\n",
       "      <td>School of Business</td>\n",
       "      <td></td>\n",
       "      <td>Xinya Bi</td>\n",
       "      <td></td>\n",
       "      <td>5</td>\n",
       "      <td>Bi</td>\n",
       "    </tr>\n",
       "  </tbody>\n",
       "</table>\n",
       "</div>"
      ],
      "text/plain": [
       "               Award                 City Country  \\\n",
       "0        Dean's List              Beijing   China   \n",
       "1        Dean's List              Taiyuan   China   \n",
       "2  Dean's Honor List       Beijing 100062   China   \n",
       "3        Dean's List              Beijing   China   \n",
       "4        Dean's List  Jinan City Shandong   China   \n",
       "\n",
       "                              School/College State Student Name Zip Code  \\\n",
       "0                        School of Education           Nanxi Ai            \n",
       "1  College of Agricultural and Life Sciences           Avery Ao            \n",
       "2                     College of Engineering           Tony Bai            \n",
       "3               College of Letters & Science         Yuchen Bai            \n",
       "4                         School of Business           Xinya Bi            \n",
       "\n",
       "   Ordering Max. Last Name  \n",
       "0         1             Ai  \n",
       "1         2             Ao  \n",
       "2         3            Bai  \n",
       "3         4            Bai  \n",
       "4         5             Bi  "
      ]
     },
     "execution_count": 28,
     "metadata": {},
     "output_type": "execute_result"
    }
   ],
   "source": [
    "df.head()"
   ]
  },
  {
   "cell_type": "code",
   "execution_count": 29,
   "metadata": {},
   "outputs": [
    {
     "name": "stdout",
     "output_type": "stream",
     "text": [
      "ShanDong\n",
      "Yangzhong\n",
      "Beijng\n",
      "Ruian Zhejiang Province\n",
      "Zhongqing\n",
      "Yongtaizhuang North Rd,Haidian\n",
      "Dongyang\n",
      "Jinyun, Lishui Zhejiang\n",
      "Huhhot\n",
      "Taiyuanshi\n",
      "Yixing\n",
      "Ping Tung City\n",
      "New Taipei City\n",
      "New Taipei City\n"
     ]
    }
   ],
   "source": [
    "formated_cities = []\n",
    "for city in df[\"City\"]:\n",
    "    formated_city = re.split('\\W+', city.lower())[0]\n",
    "    formated_cities.append(formated_city)\n",
    "    if formated_city not in city_coord:\n",
    "        print(city)"
   ]
  },
  {
   "cell_type": "code",
   "execution_count": 31,
   "metadata": {},
   "outputs": [],
   "source": [
    "# Update china coord json\n",
    "city_coord['yangzhong'] = {\n",
    "    'coord': [32.237, 119.815],\n",
    "    'hanzi': '扬中市'\n",
    "}\n",
    "city_coord['ruian'] = {\n",
    "    'coord': [27.7833, 120.625],\n",
    "    'hanzi': '瑞安市'\n",
    "}\n",
    "city_coord['dongyang'] = {\n",
    "    'coord': [29.266667, 120.216667],\n",
    "    'hanzi': '东阳市'\n",
    "}\n",
    "city_coord['jinyun'] = {\n",
    "    'coord': [28.65, 120.05],\n",
    "    'hanzi': '缙云县'\n",
    "}\n",
    "city_coord['huhhot'] = {\n",
    "    'coord': [40.816667, 111.65],\n",
    "    'hanzi': '呼和浩特市'\n",
    "}\n",
    "city_coord['yixing'] = {\n",
    "    'coord': [31.36, 119.815],\n",
    "    'hanzi': '宜兴市'\n",
    "}\n",
    "city_coord['pingdong'] = {\n",
    "    'coord': [22.676111,120.494167],\n",
    "    'hanzi': '屏东市'\n",
    "}\n",
    "dump(city_coord, open(\"./data/china_coord.json\", 'w'), indent=2, ensure_ascii=False)"
   ]
  },
  {
   "cell_type": "code",
   "execution_count": 34,
   "metadata": {},
   "outputs": [],
   "source": [
    "# Fix the typo in the table\n",
    "typo_dict = {\n",
    "    'ShanDong': 'jinan',\n",
    "    'Beijng': 'beijing',\n",
    "    'Zhongqing': 'chongqing',\n",
    "    'Yongtaizhuang North Rd,Haidian': 'beijing',\n",
    "    'Taiyuanshi': 'taiyuan',\n",
    "    'Ping Tung City': 'pingdong',\n",
    "    'New Taipei City': 'xinbei'\n",
    "}\n",
    "\n",
    "formated_cities = []\n",
    "for city in df[\"City\"]:\n",
    "    if city in typo_dict:\n",
    "        city = typo_dict[city]\n",
    "    formated_city = re.split('\\W+', city.lower())[0]\n",
    "    formated_cities.append(formated_city)\n",
    "    if formated_city not in city_coord:\n",
    "        print(city)"
   ]
  },
  {
   "cell_type": "code",
   "execution_count": 38,
   "metadata": {},
   "outputs": [],
   "source": [
    "cleaned_df = pd.DataFrame({\n",
    "    'city': formated_cities,\n",
    "    'award': df['Award'],\n",
    "    'school': df['School/College'],\n",
    "    'name': df['Student Name']\n",
    "})"
   ]
  },
  {
   "cell_type": "code",
   "execution_count": 40,
   "metadata": {},
   "outputs": [
    {
     "data": {
      "text/html": [
       "<div>\n",
       "<style scoped>\n",
       "    .dataframe tbody tr th:only-of-type {\n",
       "        vertical-align: middle;\n",
       "    }\n",
       "\n",
       "    .dataframe tbody tr th {\n",
       "        vertical-align: top;\n",
       "    }\n",
       "\n",
       "    .dataframe thead th {\n",
       "        text-align: right;\n",
       "    }\n",
       "</style>\n",
       "<table border=\"1\" class=\"dataframe\">\n",
       "  <thead>\n",
       "    <tr style=\"text-align: right;\">\n",
       "      <th></th>\n",
       "      <th>city</th>\n",
       "      <th>award</th>\n",
       "      <th>school</th>\n",
       "      <th>name</th>\n",
       "    </tr>\n",
       "  </thead>\n",
       "  <tbody>\n",
       "    <tr>\n",
       "      <th>0</th>\n",
       "      <td>beijing</td>\n",
       "      <td>Dean's List</td>\n",
       "      <td>School of Education</td>\n",
       "      <td>Nanxi Ai</td>\n",
       "    </tr>\n",
       "    <tr>\n",
       "      <th>1</th>\n",
       "      <td>taiyuan</td>\n",
       "      <td>Dean's List</td>\n",
       "      <td>College of Agricultural and Life Sciences</td>\n",
       "      <td>Avery Ao</td>\n",
       "    </tr>\n",
       "    <tr>\n",
       "      <th>2</th>\n",
       "      <td>beijing</td>\n",
       "      <td>Dean's Honor List</td>\n",
       "      <td>College of Engineering</td>\n",
       "      <td>Tony Bai</td>\n",
       "    </tr>\n",
       "    <tr>\n",
       "      <th>3</th>\n",
       "      <td>beijing</td>\n",
       "      <td>Dean's List</td>\n",
       "      <td>College of Letters &amp; Science</td>\n",
       "      <td>Yuchen Bai</td>\n",
       "    </tr>\n",
       "    <tr>\n",
       "      <th>4</th>\n",
       "      <td>jinan</td>\n",
       "      <td>Dean's List</td>\n",
       "      <td>School of Business</td>\n",
       "      <td>Xinya Bi</td>\n",
       "    </tr>\n",
       "  </tbody>\n",
       "</table>\n",
       "</div>"
      ],
      "text/plain": [
       "      city              award                                     school  \\\n",
       "0  beijing        Dean's List                        School of Education   \n",
       "1  taiyuan        Dean's List  College of Agricultural and Life Sciences   \n",
       "2  beijing  Dean's Honor List                     College of Engineering   \n",
       "3  beijing        Dean's List               College of Letters & Science   \n",
       "4    jinan        Dean's List                         School of Business   \n",
       "\n",
       "         name  \n",
       "0    Nanxi Ai  \n",
       "1    Avery Ao  \n",
       "2    Tony Bai  \n",
       "3  Yuchen Bai  \n",
       "4    Xinya Bi  "
      ]
     },
     "execution_count": 40,
     "metadata": {},
     "output_type": "execute_result"
    }
   ],
   "source": [
    "cleaned_df.head()"
   ]
  },
  {
   "cell_type": "code",
   "execution_count": 43,
   "metadata": {},
   "outputs": [],
   "source": [
    "cleaned_df.to_csv(\"./data/award_table.csv\", index = False)"
   ]
  },
  {
   "cell_type": "code",
   "execution_count": null,
   "metadata": {},
   "outputs": [],
   "source": []
  }
 ],
 "metadata": {
  "kernelspec": {
   "display_name": "Python 3",
   "language": "python",
   "name": "python3"
  },
  "language_info": {
   "codemirror_mode": {
    "name": "ipython",
    "version": 3
   },
   "file_extension": ".py",
   "mimetype": "text/x-python",
   "name": "python",
   "nbconvert_exporter": "python",
   "pygments_lexer": "ipython3",
   "version": "3.6.4"
  }
 },
 "nbformat": 4,
 "nbformat_minor": 2
}
